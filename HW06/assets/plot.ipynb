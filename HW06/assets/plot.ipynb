{
 "cells": [
  {
   "cell_type": "code",
   "execution_count": null,
   "metadata": {},
   "outputs": [],
   "source": [
    "import seaborn as sn\n",
    "import pandas as pd\n",
    "import matplotlib.pyplot as plt\n",
    "import matplotlib as mpl\n",
    "import numpy as np\n",
    "from matplotlib.colors import LogNorm\n",
    "\n",
    "array = [ [  443.1, 426.4, 431.5 ],\n",
    "          [   0.0,  20.3,  60.5 ],\n",
    "          [  20.3,   0.0,  32.0 ],\n",
    "          [  60.5,  32.0,   0.0 ] ]\n",
    "\n",
    "index = [ 'untrained', 'crypko', 'animeface', 'animeface_2000' ]\n",
    "\n",
    "df_cm = pd.DataFrame(array, index, index[1:]).fillna(value=np.nan).T\n",
    "plt.figure(figsize=(5,4))\n",
    "sn.set(font_scale=0.9)\n",
    "sn.heatmap(df_cm, annot=True, fmt=\".0f\", cbar=False, vmin=0, vmax=70)\n",
    "plt.yticks(rotation=30)\n",
    "plt.xticks(rotation=30)\n",
    "plt.xlabel('Test set')\n",
    "plt.ylabel('Real set')\n",
    "\n",
    "plt.savefig('metrics_baseline_cm.png', dpi=300, bbox_inches='tight')\n",
    "plt.show()\n",
    "\n"
   ]
  }
 ],
 "metadata": {
  "kernelspec": {
   "display_name": ".venv",
   "language": "python",
   "name": "python3"
  },
  "language_info": {
   "name": "python",
   "version": "3.11.3"
  }
 },
 "nbformat": 4,
 "nbformat_minor": 2
}
